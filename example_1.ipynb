{
  "cells": [
    {
      "cell_type": "code",
      "execution_count": null,
      "id": "dd346b9c-717f-410c-ae99-20001ea811fe",
      "metadata": {
        "id": "dd346b9c-717f-410c-ae99-20001ea811fe"
      },
      "outputs": [],
      "source": [
        "import MetaTrader5 as mt5\n",
        "import pandas as pd\n",
        "import os"
      ]
    },
    {
      "cell_type": "code",
      "execution_count": null,
      "id": "784f4a82-10a5-4bc2-b2bf-add6f8deda01",
      "metadata": {
        "id": "784f4a82-10a5-4bc2-b2bf-add6f8deda01"
      },
      "outputs": [],
      "source": [
        "pd.set_option('display.max_columns', 500) \n",
        "pd.set_option('display.width', 1500) "
      ]
    },
    {
      "cell_type": "code",
      "execution_count": null,
      "id": "d517f1c5-b5c0-489d-9c5e-9b9fbb87f224",
      "metadata": {
        "id": "d517f1c5-b5c0-489d-9c5e-9b9fbb87f224"
      },
      "outputs": [],
      "source": [
        "if not mt5.initialize():\n",
        "    print(\"initialize failed\")\n",
        "    mt5.shutdown()"
      ]
    },
    {
      "cell_type": "code",
      "execution_count": null,
      "id": "70e98994-5362-4947-97c0-8dd39a427396",
      "metadata": {
        "id": "70e98994-5362-4947-97c0-8dd39a427396",
        "outputId": "cd19ba75-aa48-4edb-afe1-6700d4905a5d"
      },
      "outputs": [],
      "source": [
        "account=os.getenv(\"MT5_PYTHON_ACCT\")\n",
        "authorized=mt5.login(account, server=os.getenv(\"MT5_PYTHON_SERVER\"))\n",
        "if authorized:\n",
        "    print(\"Authorized\")\n",
        "else:\n",
        "    print(\"Failed to connect. Error code: {}\".format(mt5.last_error()))"
      ]
    },
    {
      "cell_type": "code",
      "execution_count": null,
      "id": "1771b02f-8a22-4297-965b-c0325c8189ac",
      "metadata": {
        "id": "1771b02f-8a22-4297-965b-c0325c8189ac"
      },
      "outputs": [],
      "source": [
        "cndl_multi = mt5.copy_rates_from_pos(\"EURUSD\", mt5.TIMEFRAME_D1, 1, 365)"
      ]
    },
    {
      "cell_type": "code",
      "execution_count": null,
      "id": "0b288445-b60d-407f-ba15-f17418c651fa",
      "metadata": {
        "id": "0b288445-b60d-407f-ba15-f17418c651fa"
      },
      "outputs": [],
      "source": [
        "df = pd.DataFrame(cndl_multi) \n",
        "df['time']=pd.to_datetime(df['time'], unit='s') \n",
        "df.rename(columns={'time': 'date', 'tick_volume' : 'volume'}, inplace=True)\n",
        "df.set_index('date', inplace=True)\n",
        "df.drop(['spread','real_volume'], axis=1, inplace=True)\n",
        "print(df)"
      ]
    }
  ],
  "metadata": {
    "colab": {
      "provenance": []
    },
    "kernelspec": {
      "display_name": "Python 3.10.4 ('5%_algo_env')",
      "language": "python",
      "name": "python3"
    },
    "language_info": {
      "codemirror_mode": {
        "name": "ipython",
        "version": 3
      },
      "file_extension": ".py",
      "mimetype": "text/x-python",
      "name": "python",
      "nbconvert_exporter": "python",
      "pygments_lexer": "ipython3",
      "version": "3.10.8"
    },
    "vscode": {
      "interpreter": {
        "hash": "11736f0d6fd5650c097291d32ce5f3c8c41887d11dadc0e0fd578298e5aacc2b"
      }
    }
  },
  "nbformat": 4,
  "nbformat_minor": 5
}
